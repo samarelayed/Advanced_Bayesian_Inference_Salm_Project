{
 "cells": [
  {
   "cell_type": "markdown",
   "metadata": {},
   "source": [
    "# Advanced Bayesian Inference with Case Studies\n",
    "## Project: Salm: extra- Poisson variation in dose- response study\n",
    "\n",
    "### 1. Project Topic: Bayesian Inference in Dose-Response for Mutagenicity Assay Data\n",
    "\n",
    "#### Background:\n",
    "Mutagenicity assays are used to evaluate the potential of chemical compounds to cause genetic mutations. In this project, we focus on the response of bacterial colonies to varying doses of a mutagenic agent, quinoline. The goal is to model the relationship between the dose of quinoline and the number of revertant colonies (mutant bacteria that have reverted to their original state).\n",
    "\n",
    "#### Objective:\n",
    "We aim to implement a Bayesian inference approach to model the Poisson variation in the dose-response data. By using Bayesian methods, we can estimate the parameters of the model and make probabilistic inferences about the effects of different doses on the mutagenicity assay results.\n",
    "\n",
    "#### Model Assumptions:\n",
    "1. $( y_{ij} \\sim \\text{Poisson}(\\mu_{ij}) )$: The number of revertant colonies (observations) follows a Poisson distribution with mean $(\\mu_{ij})$.\n",
    "2. $( \\log(\\mu_{ij}) = \\alpha + \\beta \\log(x_i + 10) + \\gamma x_i + \\lambda_{ij} )$: The log of the mean response is modeled as a linear combination of the log-transformed dose, the dose, and a random effect.\n",
    "3. $( \\lambda_{ij} \\sim \\text{Normal}(0, \\tau) )$: The random effects follow a normal distribution with mean 0 and standard deviation $(\\tau)$.\n",
    "\n",
    "#### Parameters:\n",
    "- $( \\alpha )$, $( \\beta )$, $( \\gamma )$, and $( \\tau )$ are given independent \"noninformative\" priors.\n",
    "\n",
    "### 2. Plan\n",
    "The project will be implemented in the following steps:\n",
    "1. **Prepare the Data**:\n",
    "   - In this step, we are going to create a dataset with doses and plate measurements.\n",
    "   - We will organize the data into a suitable format for analysis.\n",
    "\n",
    "2. **Define the Bayesian Model**:\n",
    "   - In this step, we are going to use `pymc3` to implement the Bayesian model based on the given assumptions.\n",
    "   - We will specify the priors for the parameters ($( \\alpha )$, $( \\beta )$, $( \\gamma )$, and $( \\tau )$).\n",
    "   - We will define the likelihood function to model the observed data.\n",
    "\n",
    "3. **Perform Bayesian Inference**:\n",
    "   - In this step, we are going to use Markov Chain Monte Carlo (MCMC) methods to sample from the posterior distribution of the parameters.\n",
    "   - We will run the sampling process and collect the results.\n",
    "\n",
    "4. **Analyze the Results**:\n",
    "   - In this step, we are going to visualize the parameter estimates using trace plots and summary statistics.\n",
    "   - We will compare the Bayesian estimates with quasi-likelihood estimates reported in previous studies.\n",
    "\n",
    "5. **Interpret the Findings**:\n",
    "   - In this step, we are going to interpret the parameter estimates and their implications for the dose-response relationship.\n",
    "   - We will discuss the advantages and limitations of the Bayesian approach in \n",
    "\n"
   ]
  },
  {
   "cell_type": "markdown",
   "metadata": {},
   "source": [
    "#### Step 1: Prepare the Data\n",
    "##### Understand the Data Files\n",
    "\n",
    "From the provided files:\n",
    "\n",
    "- `salm.data.R` and `salm2.data.R`\n",
    "  Define the observed data:\n",
    "  - `y`: A 6 × 3 matrix of observed Poisson counts (responses).\n",
    "  - `x`: A vector of 6 dose levels.\n",
    "  - `Ndoses`: Number of dose levels (6).\n",
    "  - `Nplates`: Number of plates per dose (3).\n",
    "\n",
    "- `salm.init.R` and `salm2.init.R`\n",
    "  Define initial values for MCMC:\n",
    "  - `alpha`, `beta`, `gamma`, `tau`: Model parameters, initialized to 0 (except `tau = 0.1`).\n",
    "  - `lambda`: A 6 × 3 matrix initialized to 0, representing the random effect.\n",
    "\n",
    "- `post.R`\n",
    "  - Reads posterior samples from `\"samples.csv\"`.\n",
    "  - Uses `coda::summary(as.mcmc(post))` to analyze the MCMC results.\n",
    "  - Checks for the `BUGSExamples` package and (if installed) attempts to run JAGS.\n"
   ]
  },
  {
   "cell_type": "code",
   "execution_count": 1,
   "metadata": {},
   "outputs": [],
   "source": [
    "import numpy as np\n",
    "import pandas as pd\n",
    "\n",
    "# Data for doses and plates (as provided in salm.data.R)\n",
    "doses = [0, 10, 33, 100, 333, 1000]\n",
    "plates = [\n",
    "    [15, 16, 16],\n",
    "    [27, 33, 20],\n",
    "    [21, 18, 26],\n",
    "    [41, 38, 27],\n",
    "    [29, 21, 33],\n",
    "    [60, 41, 42]\n",
    "]\n",
    "\n",
    "df = pd.DataFrame(plates, columns=['Plate1', 'Plate2', 'Plate3'])\n",
    "df['Dose'] = doses\n",
    "\n",
    "doses = df['Dose'].values\n",
    "plates = df[['Plate1', 'Plate2', 'Plate3']].values"
   ]
  },
  {
   "cell_type": "code",
   "execution_count": 2,
   "metadata": {},
   "outputs": [
    {
     "name": "stdout",
     "output_type": "stream",
     "text": [
      "{'alpha': 0.0, 'beta': 0.0, 'gamma': 0.0, 'tau': 0.1, 'lambda': array([[0., 0., 0.],\n",
      "       [0., 0., 0.],\n",
      "       [0., 0., 0.],\n",
      "       [0., 0., 0.],\n",
      "       [0., 0., 0.],\n",
      "       [0., 0., 0.]])}\n"
     ]
    }
   ],
   "source": [
    "init_values = {\n",
    "    \"alpha\": 0.0,\n",
    "    \"beta\": 0.0,\n",
    "    \"gamma\": 0.0,\n",
    "    \"tau\": 0.1,\n",
    "    \"lambda\": np.zeros((6, 3))  # Random effects initialized to zero\n",
    "}\n",
    "\n",
    "print(init_values)"
   ]
  },
  {
   "cell_type": "code",
   "execution_count": 5,
   "metadata": {},
   "outputs": [],
   "source": [
    "df.to_csv(\"data\\salm_data.csv\", index=False)"
   ]
  },
  {
   "cell_type": "code",
   "execution_count": 6,
   "metadata": {},
   "outputs": [],
   "source": [
    "init_df = pd.DataFrame(init_values[\"lambda\"])\n",
    "init_df.to_csv(\"data\\salm_init.csv\", index=False)"
   ]
  },
  {
   "cell_type": "markdown",
   "metadata": {},
   "source": [
    "#### Step 3: Define the Bayesian Model"
   ]
  },
  {
   "cell_type": "code",
   "execution_count": null,
   "metadata": {},
   "outputs": [],
   "source": []
  }
 ],
 "metadata": {
  "kernelspec": {
   "display_name": "Python 3",
   "language": "python",
   "name": "python3"
  },
  "language_info": {
   "codemirror_mode": {
    "name": "ipython",
    "version": 3
   },
   "file_extension": ".py",
   "mimetype": "text/x-python",
   "name": "python",
   "nbconvert_exporter": "python",
   "pygments_lexer": "ipython3",
   "version": "3.9.13"
  }
 },
 "nbformat": 4,
 "nbformat_minor": 2
}
